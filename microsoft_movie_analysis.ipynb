{
 "cells": [
  {
   "cell_type": "markdown",
   "metadata": {},
   "source": [
    "![example](images/director_shot.jpeg)"
   ]
  },
  {
   "cell_type": "markdown",
   "metadata": {},
   "source": [
    "# Microsoft Movie Analysis\n",
    "\n",
    "**Authors:** Mengwen Tu\n",
    "***"
   ]
  },
  {
   "cell_type": "markdown",
   "metadata": {},
   "source": [
    "## Overview\n",
    "\n",
    "This project provides Microsoft some suggestions on movie investment, by analysis of the data available on [IMDb](https://www.imdb.com/) and [The Numbers](https://www.the-numbers.com/), two online database that track film information, including movie genres, production crew, budget and box office revenue etc. Descriptive analysis shows that movie production budget and the net profit has a positive correlation, which means the higher budget tend to get a higher profit. The investigation also shows that Animation, adventure, Sci-Fi, Fantasy, Action are the 5 most profitable movie genres. In addition, it seems that director with more experience tend to make a more profitable movie. However, on  the other hand, high profit doesn't mean a high ROI (Return on Investment). If Microsoft would like to get a high ROI, then smaller budget invest on Horror, Mystery, Thriller, Sport, Biography may be a good choice. "
   ]
  },
  {
   "cell_type": "markdown",
   "metadata": {},
   "source": [
    "## Business Problem\n",
    "\n",
    "Microsoft has decided to create a new movie studio, and would like to know what parameters will affect the final success of the movie. Using the available data, we can investigate whether movie production budget, genres, and director experience has influence on the profit and ROI of the movie."
   ]
  },
  {
   "cell_type": "markdown",
   "metadata": {},
   "source": [
    "## Data Understanding\n",
    "The data were collected from :\n",
    "1. [IMDb](https://www.imdb.com/), an online database of films, including film production crew and personal biographies, genres, ratings and so on.\n",
    "2. [The Numbers](https://www.the-numbers.com/), a film industry data website that tracks box office revenue in a systematic, algorithmic way. \n",
    "\n",
    "By combining information of both, we can study the relationship between genres, budget, production crew with the movie profit and ROI. "
   ]
  },
  {
   "cell_type": "markdown",
   "metadata": {},
   "source": [
    "### Import Standard Packages"
   ]
  },
  {
   "cell_type": "code",
   "execution_count": 1,
   "metadata": {},
   "outputs": [],
   "source": [
    "# Import standard packages\n",
    "import pandas as pd\n",
    "import numpy as np\n",
    "import matplotlib.pyplot as plt\n",
    "import seaborn as sns\n",
    "\n",
    "%matplotlib inline"
   ]
  },
  {
   "cell_type": "markdown",
   "metadata": {},
   "source": [
    "### Movie Budget and Gross Income"
   ]
  },
  {
   "cell_type": "code",
   "execution_count": 2,
   "metadata": {},
   "outputs": [
    {
     "data": {
      "text/html": [
       "<div>\n",
       "<style scoped>\n",
       "    .dataframe tbody tr th:only-of-type {\n",
       "        vertical-align: middle;\n",
       "    }\n",
       "\n",
       "    .dataframe tbody tr th {\n",
       "        vertical-align: top;\n",
       "    }\n",
       "\n",
       "    .dataframe thead th {\n",
       "        text-align: right;\n",
       "    }\n",
       "</style>\n",
       "<table border=\"1\" class=\"dataframe\">\n",
       "  <thead>\n",
       "    <tr style=\"text-align: right;\">\n",
       "      <th></th>\n",
       "      <th>id</th>\n",
       "      <th>release_date</th>\n",
       "      <th>movie</th>\n",
       "      <th>production_budget</th>\n",
       "      <th>domestic_gross</th>\n",
       "      <th>worldwide_gross</th>\n",
       "    </tr>\n",
       "  </thead>\n",
       "  <tbody>\n",
       "    <tr>\n",
       "      <th>0</th>\n",
       "      <td>1</td>\n",
       "      <td>Dec 18, 2009</td>\n",
       "      <td>Avatar</td>\n",
       "      <td>$425,000,000</td>\n",
       "      <td>$760,507,625</td>\n",
       "      <td>$2,776,345,279</td>\n",
       "    </tr>\n",
       "    <tr>\n",
       "      <th>1</th>\n",
       "      <td>2</td>\n",
       "      <td>May 20, 2011</td>\n",
       "      <td>Pirates of the Caribbean: On Stranger Tides</td>\n",
       "      <td>$410,600,000</td>\n",
       "      <td>$241,063,875</td>\n",
       "      <td>$1,045,663,875</td>\n",
       "    </tr>\n",
       "    <tr>\n",
       "      <th>2</th>\n",
       "      <td>3</td>\n",
       "      <td>Jun 7, 2019</td>\n",
       "      <td>Dark Phoenix</td>\n",
       "      <td>$350,000,000</td>\n",
       "      <td>$42,762,350</td>\n",
       "      <td>$149,762,350</td>\n",
       "    </tr>\n",
       "    <tr>\n",
       "      <th>3</th>\n",
       "      <td>4</td>\n",
       "      <td>May 1, 2015</td>\n",
       "      <td>Avengers: Age of Ultron</td>\n",
       "      <td>$330,600,000</td>\n",
       "      <td>$459,005,868</td>\n",
       "      <td>$1,403,013,963</td>\n",
       "    </tr>\n",
       "    <tr>\n",
       "      <th>4</th>\n",
       "      <td>5</td>\n",
       "      <td>Dec 15, 2017</td>\n",
       "      <td>Star Wars Ep. VIII: The Last Jedi</td>\n",
       "      <td>$317,000,000</td>\n",
       "      <td>$620,181,382</td>\n",
       "      <td>$1,316,721,747</td>\n",
       "    </tr>\n",
       "  </tbody>\n",
       "</table>\n",
       "</div>"
      ],
      "text/plain": [
       "   id  release_date                                        movie  \\\n",
       "0   1  Dec 18, 2009                                       Avatar   \n",
       "1   2  May 20, 2011  Pirates of the Caribbean: On Stranger Tides   \n",
       "2   3   Jun 7, 2019                                 Dark Phoenix   \n",
       "3   4   May 1, 2015                      Avengers: Age of Ultron   \n",
       "4   5  Dec 15, 2017            Star Wars Ep. VIII: The Last Jedi   \n",
       "\n",
       "  production_budget domestic_gross worldwide_gross  \n",
       "0      $425,000,000   $760,507,625  $2,776,345,279  \n",
       "1      $410,600,000   $241,063,875  $1,045,663,875  \n",
       "2      $350,000,000    $42,762,350    $149,762,350  \n",
       "3      $330,600,000   $459,005,868  $1,403,013,963  \n",
       "4      $317,000,000   $620,181,382  $1,316,721,747  "
      ]
     },
     "execution_count": 2,
     "metadata": {},
     "output_type": "execute_result"
    }
   ],
   "source": [
    "# Load the data with pandas\n",
    "movie_budget = pd.read_csv('tn.movie_budgets.csv')\n",
    "movie_budget.head()"
   ]
  },
  {
   "cell_type": "markdown",
   "metadata": {},
   "source": [
    "Inspect the contents of the dataframe:"
   ]
  },
  {
   "cell_type": "code",
   "execution_count": 3,
   "metadata": {},
   "outputs": [
    {
     "name": "stdout",
     "output_type": "stream",
     "text": [
      "<class 'pandas.core.frame.DataFrame'>\n",
      "RangeIndex: 5782 entries, 0 to 5781\n",
      "Data columns (total 6 columns):\n",
      " #   Column             Non-Null Count  Dtype \n",
      "---  ------             --------------  ----- \n",
      " 0   id                 5782 non-null   int64 \n",
      " 1   release_date       5782 non-null   object\n",
      " 2   movie              5782 non-null   object\n",
      " 3   production_budget  5782 non-null   object\n",
      " 4   domestic_gross     5782 non-null   object\n",
      " 5   worldwide_gross    5782 non-null   object\n",
      "dtypes: int64(1), object(5)\n",
      "memory usage: 271.2+ KB\n"
     ]
    }
   ],
   "source": [
    "movie_budget.info()"
   ]
  },
  {
   "cell_type": "markdown",
   "metadata": {},
   "source": [
    "Convert budget and gross into integer so we can calculate net profit and  ROI (Return on Investment) of each film. "
   ]
  },
  {
   "cell_type": "code",
   "execution_count": 4,
   "metadata": {},
   "outputs": [],
   "source": [
    "#convert domestic gross to integer\n",
    "movie_budget['domestic_gross'] = [num.strip('$') for num in movie_budget['domestic_gross'] ]\n",
    "movie_budget['domestic_gross'] = [num.replace(',','') for num in movie_budget['domestic_gross']]\n",
    "movie_budget['domestic_gross'] = movie_budget['domestic_gross'].astype(int)\n",
    "\n",
    "\n",
    "#convert worldwide gross to integer\n",
    "movie_budget['worldwide_gross'] = [num.strip('$') for num in movie_budget['worldwide_gross'] ]\n",
    "movie_budget['worldwide_gross'] = [num.replace(',','') for num in movie_budget['worldwide_gross']]\n",
    "movie_budget['worldwide_gross'] = movie_budget['worldwide_gross'].astype(int)\n",
    "\n",
    "#convert budget to integer\n",
    "movie_budget['production_budget'] = [num.strip('$') for num in movie_budget['production_budget'] ]\n",
    "movie_budget['production_budget'] = [num.replace(',','') for num in movie_budget['production_budget']]\n",
    "movie_budget['production_budget'] = movie_budget['production_budget'].astype(int)\n"
   ]
  },
  {
   "cell_type": "code",
   "execution_count": 5,
   "metadata": {},
   "outputs": [
    {
     "data": {
      "text/html": [
       "<div>\n",
       "<style scoped>\n",
       "    .dataframe tbody tr th:only-of-type {\n",
       "        vertical-align: middle;\n",
       "    }\n",
       "\n",
       "    .dataframe tbody tr th {\n",
       "        vertical-align: top;\n",
       "    }\n",
       "\n",
       "    .dataframe thead th {\n",
       "        text-align: right;\n",
       "    }\n",
       "</style>\n",
       "<table border=\"1\" class=\"dataframe\">\n",
       "  <thead>\n",
       "    <tr style=\"text-align: right;\">\n",
       "      <th></th>\n",
       "      <th>id</th>\n",
       "      <th>release_date</th>\n",
       "      <th>movie</th>\n",
       "      <th>production_budget</th>\n",
       "      <th>domestic_gross</th>\n",
       "      <th>worldwide_gross</th>\n",
       "      <th>net_profit</th>\n",
       "      <th>ROI</th>\n",
       "    </tr>\n",
       "  </thead>\n",
       "  <tbody>\n",
       "    <tr>\n",
       "      <th>0</th>\n",
       "      <td>1</td>\n",
       "      <td>Dec 18, 2009</td>\n",
       "      <td>Avatar</td>\n",
       "      <td>425000000</td>\n",
       "      <td>760507625</td>\n",
       "      <td>2776345279</td>\n",
       "      <td>2351345279</td>\n",
       "      <td>5.532577</td>\n",
       "    </tr>\n",
       "    <tr>\n",
       "      <th>1</th>\n",
       "      <td>2</td>\n",
       "      <td>May 20, 2011</td>\n",
       "      <td>Pirates of the Caribbean: On Stranger Tides</td>\n",
       "      <td>410600000</td>\n",
       "      <td>241063875</td>\n",
       "      <td>1045663875</td>\n",
       "      <td>635063875</td>\n",
       "      <td>1.546673</td>\n",
       "    </tr>\n",
       "    <tr>\n",
       "      <th>2</th>\n",
       "      <td>3</td>\n",
       "      <td>Jun 7, 2019</td>\n",
       "      <td>Dark Phoenix</td>\n",
       "      <td>350000000</td>\n",
       "      <td>42762350</td>\n",
       "      <td>149762350</td>\n",
       "      <td>-200237650</td>\n",
       "      <td>-0.572108</td>\n",
       "    </tr>\n",
       "    <tr>\n",
       "      <th>3</th>\n",
       "      <td>4</td>\n",
       "      <td>May 1, 2015</td>\n",
       "      <td>Avengers: Age of Ultron</td>\n",
       "      <td>330600000</td>\n",
       "      <td>459005868</td>\n",
       "      <td>1403013963</td>\n",
       "      <td>1072413963</td>\n",
       "      <td>3.243841</td>\n",
       "    </tr>\n",
       "    <tr>\n",
       "      <th>4</th>\n",
       "      <td>5</td>\n",
       "      <td>Dec 15, 2017</td>\n",
       "      <td>Star Wars Ep. VIII: The Last Jedi</td>\n",
       "      <td>317000000</td>\n",
       "      <td>620181382</td>\n",
       "      <td>1316721747</td>\n",
       "      <td>999721747</td>\n",
       "      <td>3.153696</td>\n",
       "    </tr>\n",
       "  </tbody>\n",
       "</table>\n",
       "</div>"
      ],
      "text/plain": [
       "   id  release_date                                        movie  \\\n",
       "0   1  Dec 18, 2009                                       Avatar   \n",
       "1   2  May 20, 2011  Pirates of the Caribbean: On Stranger Tides   \n",
       "2   3   Jun 7, 2019                                 Dark Phoenix   \n",
       "3   4   May 1, 2015                      Avengers: Age of Ultron   \n",
       "4   5  Dec 15, 2017            Star Wars Ep. VIII: The Last Jedi   \n",
       "\n",
       "   production_budget  domestic_gross  worldwide_gross  net_profit       ROI  \n",
       "0          425000000       760507625       2776345279  2351345279  5.532577  \n",
       "1          410600000       241063875       1045663875   635063875  1.546673  \n",
       "2          350000000        42762350        149762350  -200237650 -0.572108  \n",
       "3          330600000       459005868       1403013963  1072413963  3.243841  \n",
       "4          317000000       620181382       1316721747   999721747  3.153696  "
      ]
     },
     "execution_count": 5,
     "metadata": {},
     "output_type": "execute_result"
    }
   ],
   "source": [
    "#Add two columns, net_profit and ROI to the dataframe. \n",
    "movie_budget['net_profit'] = movie_budget['worldwide_gross'] - movie_budget['production_budget']\n",
    "movie_budget['ROI'] = movie_budget['net_profit']/movie_budget['production_budget']\n",
    "movie_budget.head()"
   ]
  },
  {
   "cell_type": "markdown",
   "metadata": {},
   "source": [
    "Investigate if any missing data, or duplicates in the dataframe: "
   ]
  },
  {
   "cell_type": "code",
   "execution_count": 6,
   "metadata": {},
   "outputs": [
    {
     "data": {
      "text/plain": [
       "id                   0\n",
       "release_date         0\n",
       "movie                0\n",
       "production_budget    0\n",
       "domestic_gross       0\n",
       "worldwide_gross      0\n",
       "net_profit           0\n",
       "ROI                  0\n",
       "dtype: int64"
      ]
     },
     "execution_count": 6,
     "metadata": {},
     "output_type": "execute_result"
    }
   ],
   "source": [
    "movie_budget.isna().sum()"
   ]
  },
  {
   "cell_type": "code",
   "execution_count": 7,
   "metadata": {},
   "outputs": [
    {
     "data": {
      "text/plain": [
       "False    5782\n",
       "dtype: int64"
      ]
     },
     "execution_count": 7,
     "metadata": {},
     "output_type": "execute_result"
    }
   ],
   "source": [
    "movie_budget.duplicated().value_counts()"
   ]
  },
  {
   "cell_type": "markdown",
   "metadata": {},
   "source": [
    "There is no missing data or duplicates in the dataframe. "
   ]
  },
  {
   "cell_type": "markdown",
   "metadata": {},
   "source": [
    "### Movie Information"
   ]
  },
  {
   "cell_type": "markdown",
   "metadata": {},
   "source": [
    "Now we will use IMDb database to get information of movie genres, director information, and rating. "
   ]
  },
  {
   "cell_type": "code",
   "execution_count": 8,
   "metadata": {},
   "outputs": [],
   "source": [
    "# Load the imdb data with sqlite3\n",
    "import sqlite3\n",
    "conn = sqlite3.Connection('im.db')"
   ]
  },
  {
   "cell_type": "code",
   "execution_count": 9,
   "metadata": {},
   "outputs": [
    {
     "data": {
      "text/plain": [
       "False    85949\n",
       "dtype: int64"
      ]
     },
     "execution_count": 9,
     "metadata": {},
     "output_type": "execute_result"
    }
   ],
   "source": [
    "#Query im.db database to get movie title, genres, rating, and director name\n",
    "q = \"\"\"SELECT DISTINCT b.primary_title AS movie, b.genres,r.averagerating, p.primary_name AS director_name\n",
    "       FROM movie_basics AS b\n",
    "       JOIN movie_ratings AS r\n",
    "       USING (movie_id)\n",
    "       JOIN directors AS d\n",
    "       USING (movie_id)\n",
    "       JOIN persons AS p\n",
    "       USING (person_id)\n",
    "       ORDER BY averagerating DESC;\"\"\"\n",
    "movie_info = pd.read_sql(q, conn)\n",
    "movie_info.duplicated().value_counts()"
   ]
  },
  {
   "cell_type": "code",
   "execution_count": 10,
   "metadata": {},
   "outputs": [
    {
     "name": "stdout",
     "output_type": "stream",
     "text": [
      "<class 'pandas.core.frame.DataFrame'>\n",
      "RangeIndex: 85949 entries, 0 to 85948\n",
      "Data columns (total 4 columns):\n",
      " #   Column         Non-Null Count  Dtype  \n",
      "---  ------         --------------  -----  \n",
      " 0   movie          85949 non-null  object \n",
      " 1   genres         85151 non-null  object \n",
      " 2   averagerating  85949 non-null  float64\n",
      " 3   director_name  85949 non-null  object \n",
      "dtypes: float64(1), object(3)\n",
      "memory usage: 2.6+ MB\n"
     ]
    }
   ],
   "source": [
    "movie_info.info()"
   ]
  },
  {
   "cell_type": "markdown",
   "metadata": {},
   "source": [
    "Investigate if there is any duplicates or missing data in the dataframe"
   ]
  },
  {
   "cell_type": "code",
   "execution_count": 11,
   "metadata": {},
   "outputs": [
    {
     "data": {
      "text/plain": [
       "False    85949\n",
       "dtype: int64"
      ]
     },
     "execution_count": 11,
     "metadata": {},
     "output_type": "execute_result"
    }
   ],
   "source": [
    "movie_info.duplicated().value_counts()"
   ]
  },
  {
   "cell_type": "code",
   "execution_count": 12,
   "metadata": {},
   "outputs": [
    {
     "data": {
      "text/plain": [
       "movie              0\n",
       "genres           798\n",
       "averagerating      0\n",
       "director_name      0\n",
       "dtype: int64"
      ]
     },
     "execution_count": 12,
     "metadata": {},
     "output_type": "execute_result"
    }
   ],
   "source": [
    "movie_info.isna().sum()"
   ]
  },
  {
   "cell_type": "markdown",
   "metadata": {},
   "source": [
    "Compare with 85,949 results, 798 is only 0.9% of data, we will keep it at this point. "
   ]
  },
  {
   "cell_type": "markdown",
   "metadata": {},
   "source": [
    "## Merge Movie Budget with Movie Information"
   ]
  },
  {
   "cell_type": "markdown",
   "metadata": {},
   "source": [
    "Since we want to study how the movie parameters (budget, genre, director) will affect on the profit and ROI of movies, it's important to have both movie information data and budget data available same time. So I choose to use an inner merge of the two database. "
   ]
  },
  {
   "cell_type": "code",
   "execution_count": 13,
   "metadata": {},
   "outputs": [
    {
     "name": "stdout",
     "output_type": "stream",
     "text": [
      "<class 'pandas.core.frame.DataFrame'>\n",
      "Int64Index: 3189 entries, 0 to 3188\n",
      "Data columns (total 11 columns):\n",
      " #   Column             Non-Null Count  Dtype  \n",
      "---  ------             --------------  -----  \n",
      " 0   id                 3189 non-null   int64  \n",
      " 1   release_date       3189 non-null   object \n",
      " 2   movie              3189 non-null   object \n",
      " 3   production_budget  3189 non-null   int64  \n",
      " 4   domestic_gross     3189 non-null   int64  \n",
      " 5   worldwide_gross    3189 non-null   int64  \n",
      " 6   net_profit         3189 non-null   int64  \n",
      " 7   ROI                3189 non-null   float64\n",
      " 8   genres             3181 non-null   object \n",
      " 9   averagerating      3189 non-null   float64\n",
      " 10  director_name      3189 non-null   object \n",
      "dtypes: float64(2), int64(5), object(4)\n",
      "memory usage: 299.0+ KB\n"
     ]
    }
   ],
   "source": [
    "df_merged = movie_budget.merge(movie_info, on='movie', how = 'inner')\n",
    "df_merged.info()"
   ]
  },
  {
   "cell_type": "code",
   "execution_count": 14,
   "metadata": {},
   "outputs": [
    {
     "data": {
      "text/plain": [
       "False    3189\n",
       "dtype: int64"
      ]
     },
     "execution_count": 14,
     "metadata": {},
     "output_type": "execute_result"
    }
   ],
   "source": [
    "df_merged.duplicated().value_counts()"
   ]
  },
  {
   "cell_type": "code",
   "execution_count": 15,
   "metadata": {},
   "outputs": [
    {
     "data": {
      "text/plain": [
       "id                   0\n",
       "release_date         0\n",
       "movie                0\n",
       "production_budget    0\n",
       "domestic_gross       0\n",
       "worldwide_gross      0\n",
       "net_profit           0\n",
       "ROI                  0\n",
       "genres               8\n",
       "averagerating        0\n",
       "director_name        0\n",
       "dtype: int64"
      ]
     },
     "execution_count": 15,
     "metadata": {},
     "output_type": "execute_result"
    }
   ],
   "source": [
    "df_merged.isna().sum()"
   ]
  },
  {
   "cell_type": "markdown",
   "metadata": {},
   "source": [
    "There are only 8 missing genre in the dataframe, compared with 3189 total data, it's only 0.2% of the data and shouldn't have a great effect on the final result, so I decided to keep it. "
   ]
  },
  {
   "cell_type": "markdown",
   "metadata": {},
   "source": [
    "## Data Preparation"
   ]
  },
  {
   "cell_type": "markdown",
   "metadata": {},
   "source": [
    "### Data Cleaning"
   ]
  },
  {
   "cell_type": "markdown",
   "metadata": {},
   "source": [
    "By investigating the 'genres' column, we can see there are multiple genres in one movie result. Therefore we will split the value so each row only has one genre. "
   ]
  },
  {
   "cell_type": "code",
   "execution_count": 16,
   "metadata": {},
   "outputs": [
    {
     "data": {
      "text/plain": [
       "False    7076\n",
       "dtype: int64"
      ]
     },
     "execution_count": 16,
     "metadata": {},
     "output_type": "execute_result"
    }
   ],
   "source": [
    "#Split genres into individual genre, by using split() and explode()\n",
    "df_merged['genre'] = df_merged['genres'].str.split(',')\n",
    "total = df_merged.explode('genre')\n",
    "total.duplicated().value_counts()"
   ]
  },
  {
   "cell_type": "code",
   "execution_count": 17,
   "metadata": {},
   "outputs": [
    {
     "data": {
      "text/html": [
       "<div>\n",
       "<style scoped>\n",
       "    .dataframe tbody tr th:only-of-type {\n",
       "        vertical-align: middle;\n",
       "    }\n",
       "\n",
       "    .dataframe tbody tr th {\n",
       "        vertical-align: top;\n",
       "    }\n",
       "\n",
       "    .dataframe thead th {\n",
       "        text-align: right;\n",
       "    }\n",
       "</style>\n",
       "<table border=\"1\" class=\"dataframe\">\n",
       "  <thead>\n",
       "    <tr style=\"text-align: right;\">\n",
       "      <th></th>\n",
       "      <th>id</th>\n",
       "      <th>release_date</th>\n",
       "      <th>movie</th>\n",
       "      <th>production_budget</th>\n",
       "      <th>domestic_gross</th>\n",
       "      <th>worldwide_gross</th>\n",
       "      <th>net_profit</th>\n",
       "      <th>ROI</th>\n",
       "      <th>genres</th>\n",
       "      <th>averagerating</th>\n",
       "      <th>director_name</th>\n",
       "      <th>genre</th>\n",
       "    </tr>\n",
       "  </thead>\n",
       "  <tbody>\n",
       "    <tr>\n",
       "      <th>0</th>\n",
       "      <td>1</td>\n",
       "      <td>Dec 18, 2009</td>\n",
       "      <td>Avatar</td>\n",
       "      <td>425000000</td>\n",
       "      <td>760507625</td>\n",
       "      <td>2776345279</td>\n",
       "      <td>2351345279</td>\n",
       "      <td>5.532577</td>\n",
       "      <td>Horror</td>\n",
       "      <td>6.1</td>\n",
       "      <td>Atsushi Wada</td>\n",
       "      <td>Horror</td>\n",
       "    </tr>\n",
       "    <tr>\n",
       "      <th>1</th>\n",
       "      <td>2</td>\n",
       "      <td>May 20, 2011</td>\n",
       "      <td>Pirates of the Caribbean: On Stranger Tides</td>\n",
       "      <td>410600000</td>\n",
       "      <td>241063875</td>\n",
       "      <td>1045663875</td>\n",
       "      <td>635063875</td>\n",
       "      <td>1.546673</td>\n",
       "      <td>Action,Adventure,Fantasy</td>\n",
       "      <td>6.6</td>\n",
       "      <td>Rob Marshall</td>\n",
       "      <td>Action</td>\n",
       "    </tr>\n",
       "    <tr>\n",
       "      <th>1</th>\n",
       "      <td>2</td>\n",
       "      <td>May 20, 2011</td>\n",
       "      <td>Pirates of the Caribbean: On Stranger Tides</td>\n",
       "      <td>410600000</td>\n",
       "      <td>241063875</td>\n",
       "      <td>1045663875</td>\n",
       "      <td>635063875</td>\n",
       "      <td>1.546673</td>\n",
       "      <td>Action,Adventure,Fantasy</td>\n",
       "      <td>6.6</td>\n",
       "      <td>Rob Marshall</td>\n",
       "      <td>Adventure</td>\n",
       "    </tr>\n",
       "    <tr>\n",
       "      <th>1</th>\n",
       "      <td>2</td>\n",
       "      <td>May 20, 2011</td>\n",
       "      <td>Pirates of the Caribbean: On Stranger Tides</td>\n",
       "      <td>410600000</td>\n",
       "      <td>241063875</td>\n",
       "      <td>1045663875</td>\n",
       "      <td>635063875</td>\n",
       "      <td>1.546673</td>\n",
       "      <td>Action,Adventure,Fantasy</td>\n",
       "      <td>6.6</td>\n",
       "      <td>Rob Marshall</td>\n",
       "      <td>Fantasy</td>\n",
       "    </tr>\n",
       "    <tr>\n",
       "      <th>2</th>\n",
       "      <td>3</td>\n",
       "      <td>Jun 7, 2019</td>\n",
       "      <td>Dark Phoenix</td>\n",
       "      <td>350000000</td>\n",
       "      <td>42762350</td>\n",
       "      <td>149762350</td>\n",
       "      <td>-200237650</td>\n",
       "      <td>-0.572108</td>\n",
       "      <td>Action,Adventure,Sci-Fi</td>\n",
       "      <td>6.0</td>\n",
       "      <td>Simon Kinberg</td>\n",
       "      <td>Action</td>\n",
       "    </tr>\n",
       "  </tbody>\n",
       "</table>\n",
       "</div>"
      ],
      "text/plain": [
       "   id  release_date                                        movie  \\\n",
       "0   1  Dec 18, 2009                                       Avatar   \n",
       "1   2  May 20, 2011  Pirates of the Caribbean: On Stranger Tides   \n",
       "1   2  May 20, 2011  Pirates of the Caribbean: On Stranger Tides   \n",
       "1   2  May 20, 2011  Pirates of the Caribbean: On Stranger Tides   \n",
       "2   3   Jun 7, 2019                                 Dark Phoenix   \n",
       "\n",
       "   production_budget  domestic_gross  worldwide_gross  net_profit       ROI  \\\n",
       "0          425000000       760507625       2776345279  2351345279  5.532577   \n",
       "1          410600000       241063875       1045663875   635063875  1.546673   \n",
       "1          410600000       241063875       1045663875   635063875  1.546673   \n",
       "1          410600000       241063875       1045663875   635063875  1.546673   \n",
       "2          350000000        42762350        149762350  -200237650 -0.572108   \n",
       "\n",
       "                     genres  averagerating  director_name      genre  \n",
       "0                    Horror            6.1   Atsushi Wada     Horror  \n",
       "1  Action,Adventure,Fantasy            6.6   Rob Marshall     Action  \n",
       "1  Action,Adventure,Fantasy            6.6   Rob Marshall  Adventure  \n",
       "1  Action,Adventure,Fantasy            6.6   Rob Marshall    Fantasy  \n",
       "2   Action,Adventure,Sci-Fi            6.0  Simon Kinberg     Action  "
      ]
     },
     "execution_count": 17,
     "metadata": {},
     "output_type": "execute_result"
    }
   ],
   "source": [
    "total.head()"
   ]
  },
  {
   "cell_type": "code",
   "execution_count": 18,
   "metadata": {},
   "outputs": [
    {
     "name": "stdout",
     "output_type": "stream",
     "text": [
      "<class 'pandas.core.frame.DataFrame'>\n",
      "Int64Index: 7076 entries, 0 to 3188\n",
      "Data columns (total 12 columns):\n",
      " #   Column             Non-Null Count  Dtype  \n",
      "---  ------             --------------  -----  \n",
      " 0   id                 7076 non-null   int64  \n",
      " 1   release_date       7076 non-null   object \n",
      " 2   movie              7076 non-null   object \n",
      " 3   production_budget  7076 non-null   int64  \n",
      " 4   domestic_gross     7076 non-null   int64  \n",
      " 5   worldwide_gross    7076 non-null   int64  \n",
      " 6   net_profit         7076 non-null   int64  \n",
      " 7   ROI                7076 non-null   float64\n",
      " 8   genres             7068 non-null   object \n",
      " 9   averagerating      7076 non-null   float64\n",
      " 10  director_name      7076 non-null   object \n",
      " 11  genre              7068 non-null   object \n",
      "dtypes: float64(2), int64(5), object(5)\n",
      "memory usage: 718.7+ KB\n"
     ]
    }
   ],
   "source": [
    "total.info()"
   ]
  },
  {
   "cell_type": "markdown",
   "metadata": {},
   "source": [
    "At this step we have a comprehensive dataframe with all target variables we want to investigate."
   ]
  },
  {
   "cell_type": "markdown",
   "metadata": {},
   "source": [
    "## Data Analysis"
   ]
  },
  {
   "cell_type": "markdown",
   "metadata": {},
   "source": [
    "First, I would like to study the correlation of production budget and net profit, to see if a higher-budget film will do better job gaining absolute profit. "
   ]
  },
  {
   "cell_type": "code",
   "execution_count": 19,
   "metadata": {},
   "outputs": [
    {
     "data": {
      "text/plain": [
       "production_budget    0.660947\n",
       "domestic_gross       0.941424\n",
       "worldwide_gross      0.985392\n",
       "ROI                  0.105298\n",
       "averagerating        0.215743\n",
       "Name: net_profit, dtype: float64"
      ]
     },
     "execution_count": 19,
     "metadata": {},
     "output_type": "execute_result"
    }
   ],
   "source": [
    "correlation_np = total.corr()['net_profit']\n",
    "correlation_np = correlation_np.drop (labels = ['id','net_profit'])\n",
    "correlation_np"
   ]
  },
  {
   "cell_type": "markdown",
   "metadata": {},
   "source": [
    "Second, I would like to study the correlation of production budget and ROI, to investigate whether big budget will gain higher ROI?"
   ]
  },
  {
   "cell_type": "code",
   "execution_count": 20,
   "metadata": {},
   "outputs": [
    {
     "data": {
      "text/plain": [
       "production_budget   -0.050662\n",
       "domestic_gross       0.092770\n",
       "worldwide_gross      0.076469\n",
       "net_profit           0.105298\n",
       "averagerating       -0.005982\n",
       "Name: ROI, dtype: float64"
      ]
     },
     "execution_count": 20,
     "metadata": {},
     "output_type": "execute_result"
    }
   ],
   "source": [
    "correlation_roi = total.corr()['ROI']\n",
    "correlation_roi = correlation_roi.drop (labels = ['id','ROI'])\n",
    "correlation_roi"
   ]
  },
  {
   "cell_type": "markdown",
   "metadata": {},
   "source": [
    "The result shows that correlation of production budget and net profit is 0.66, a medium-strong correlation. The average rating also has a postive correlation with net profit, but not very strong (only 0.2). This indicates that some good rating movie doesn't necessarily mean a profitable movie. \n",
    "\n",
    "On the other hand, production budget and average rating both have a negative correlation with ROI. This shows that big budget not necessarily bring a good return rate on investment. "
   ]
  },
  {
   "cell_type": "markdown",
   "metadata": {},
   "source": [
    "### Relationship Between Movie Buget and Profit"
   ]
  },
  {
   "cell_type": "markdown",
   "metadata": {},
   "source": [
    "Let's make a visualization to show the relationship between investment budget and profit."
   ]
  },
  {
   "cell_type": "code",
   "execution_count": 21,
   "metadata": {},
   "outputs": [
    {
     "data": {
      "image/png": "[encoded data removed]",
      "text/plain": [
       "<Figure size 864x576 with 1 Axes>"
      ]
     },
     "metadata": {
      "needs_background": "light"
     },
     "output_type": "display_data"
    }
   ],
   "source": [
    "#relationship between budget and profit --- scatter plot\n",
    "fig, ax = plt.subplots(figsize = (12,8))\n",
    "ax.scatter(total['production_budget'], total['net_profit'],alpha=0.3, color=\"orange\")\n",
    "\n",
    "ax.set_title(\"Production Budget vs. Net Profit\")\n",
    "ax.set_xlabel(\"Movie Production Budget (in 100M)\")\n",
    "ax.set_ylabel(\"Movie Net Profit (in Billion)\")\n",
    "plt.savefig('images/buget_profit.png')"
   ]
  },
  {
   "cell_type": "code",
   "execution_count": 22,
   "metadata": {},
   "outputs": [
    {
     "data": {
      "image/png": "[encoded data removed]",
      "text/plain": [
       "<Figure size 864x576 with 1 Axes>"
      ]
     },
     "metadata": {
      "needs_background": "light"
     },
     "output_type": "display_data"
    }
   ],
   "source": [
    "#relationship between budget and ROI --- scatter plot\n",
    "fig, ax = plt.subplots(figsize = (12,8))\n",
    "ax.scatter(total['production_budget'], total['ROI'],alpha=0.3, color=\"orange\")\n",
    "\n",
    "ax.set_title(\"Production Budget vs. ROI\")\n",
    "ax.set_xlabel(\"Movie Production Budget (in 100M)\")\n",
    "ax.set_ylabel(\"Movie ROI\")\n",
    "plt.savefig('images/buget_roi.png')"
   ]
  },
  {
   "cell_type": "markdown",
   "metadata": {},
   "source": [
    "The above two scatter plot shows that higher budget tend to gain higher profit. \n",
    "\n",
    "On the other hand, however, many low budget movies tend to get high return on investment. "
   ]
  },
  {
   "cell_type": "markdown",
   "metadata": {},
   "source": [
    "### Relationship Between Movie Genre and Profit"
   ]
  },
  {
   "cell_type": "markdown",
   "metadata": {},
   "source": [
    "Investigate genres, to check what kind of genre value in this dataframe. "
   ]
  },
  {
   "cell_type": "code",
   "execution_count": 23,
   "metadata": {},
   "outputs": [
    {
     "data": {
      "text/plain": [
       "Drama          1587\n",
       "Comedy          881\n",
       "Action          679\n",
       "Thriller        536\n",
       "Adventure       522\n",
       "Horror          392\n",
       "Crime           377\n",
       "Romance         339\n",
       "Documentary     248\n",
       "Mystery         243\n",
       "Sci-Fi          219\n",
       "Biography       203\n",
       "Animation       192\n",
       "Fantasy         179\n",
       "Family          162\n",
       "Music            80\n",
       "History          74\n",
       "Sport            69\n",
       "War              41\n",
       "Musical          23\n",
       "Western          17\n",
       "News              5\n",
       "Name: genre, dtype: int64"
      ]
     },
     "execution_count": 23,
     "metadata": {},
     "output_type": "execute_result"
    }
   ],
   "source": [
    "total['genre'].value_counts()"
   ]
  },
  {
   "cell_type": "markdown",
   "metadata": {},
   "source": [
    "Group by each genre to calculate the average profit of each genre."
   ]
  },
  {
   "cell_type": "code",
   "execution_count": 24,
   "metadata": {},
   "outputs": [
    {
     "data": {
      "text/html": [
       "<div>\n",
       "<style scoped>\n",
       "    .dataframe tbody tr th:only-of-type {\n",
       "        vertical-align: middle;\n",
       "    }\n",
       "\n",
       "    .dataframe tbody tr th {\n",
       "        vertical-align: top;\n",
       "    }\n",
       "\n",
       "    .dataframe thead th {\n",
       "        text-align: right;\n",
       "    }\n",
       "</style>\n",
       "<table border=\"1\" class=\"dataframe\">\n",
       "  <thead>\n",
       "    <tr style=\"text-align: right;\">\n",
       "      <th></th>\n",
       "      <th>id</th>\n",
       "      <th>production_budget</th>\n",
       "      <th>domestic_gross</th>\n",
       "      <th>worldwide_gross</th>\n",
       "      <th>net_profit</th>\n",
       "      <th>ROI</th>\n",
       "      <th>averagerating</th>\n",
       "    </tr>\n",
       "    <tr>\n",
       "      <th>genre</th>\n",
       "      <th></th>\n",
       "      <th></th>\n",
       "      <th></th>\n",
       "      <th></th>\n",
       "      <th></th>\n",
       "      <th></th>\n",
       "      <th></th>\n",
       "    </tr>\n",
       "  </thead>\n",
       "  <tbody>\n",
       "    <tr>\n",
       "      <th>War</th>\n",
       "      <td>49.170732</td>\n",
       "      <td>2.375610e+07</td>\n",
       "      <td>2.030195e+07</td>\n",
       "      <td>4.369567e+07</td>\n",
       "      <td>1.993958e+07</td>\n",
       "      <td>0.438865</td>\n",
       "      <td>6.446341</td>\n",
       "    </tr>\n",
       "    <tr>\n",
       "      <th>News</th>\n",
       "      <td>38.800000</td>\n",
       "      <td>1.932000e+07</td>\n",
       "      <td>1.127706e+07</td>\n",
       "      <td>4.392170e+07</td>\n",
       "      <td>2.460170e+07</td>\n",
       "      <td>1.312152</td>\n",
       "      <td>6.760000</td>\n",
       "    </tr>\n",
       "    <tr>\n",
       "      <th>Documentary</th>\n",
       "      <td>48.294355</td>\n",
       "      <td>2.137064e+07</td>\n",
       "      <td>2.793245e+07</td>\n",
       "      <td>5.502641e+07</td>\n",
       "      <td>3.365577e+07</td>\n",
       "      <td>3.063688</td>\n",
       "      <td>7.145565</td>\n",
       "    </tr>\n",
       "    <tr>\n",
       "      <th>Drama</th>\n",
       "      <td>51.105230</td>\n",
       "      <td>2.344687e+07</td>\n",
       "      <td>2.884931e+07</td>\n",
       "      <td>6.137088e+07</td>\n",
       "      <td>3.792401e+07</td>\n",
       "      <td>2.680697</td>\n",
       "      <td>6.434026</td>\n",
       "    </tr>\n",
       "    <tr>\n",
       "      <th>History</th>\n",
       "      <td>48.770270</td>\n",
       "      <td>3.131095e+07</td>\n",
       "      <td>3.345418e+07</td>\n",
       "      <td>7.006092e+07</td>\n",
       "      <td>3.874998e+07</td>\n",
       "      <td>2.246554</td>\n",
       "      <td>6.828378</td>\n",
       "    </tr>\n",
       "    <tr>\n",
       "      <th>Crime</th>\n",
       "      <td>50.381963</td>\n",
       "      <td>2.766338e+07</td>\n",
       "      <td>3.154111e+07</td>\n",
       "      <td>6.792505e+07</td>\n",
       "      <td>4.026168e+07</td>\n",
       "      <td>1.357063</td>\n",
       "      <td>6.278249</td>\n",
       "    </tr>\n",
       "    <tr>\n",
       "      <th>Western</th>\n",
       "      <td>47.882353</td>\n",
       "      <td>4.587059e+07</td>\n",
       "      <td>4.555825e+07</td>\n",
       "      <td>8.699831e+07</td>\n",
       "      <td>4.112772e+07</td>\n",
       "      <td>0.546899</td>\n",
       "      <td>6.458824</td>\n",
       "    </tr>\n",
       "    <tr>\n",
       "      <th>Romance</th>\n",
       "      <td>53.008850</td>\n",
       "      <td>2.015052e+07</td>\n",
       "      <td>2.883443e+07</td>\n",
       "      <td>6.217852e+07</td>\n",
       "      <td>4.202800e+07</td>\n",
       "      <td>3.522626</td>\n",
       "      <td>6.277286</td>\n",
       "    </tr>\n",
       "    <tr>\n",
       "      <th>Horror</th>\n",
       "      <td>53.918367</td>\n",
       "      <td>1.844480e+07</td>\n",
       "      <td>2.802184e+07</td>\n",
       "      <td>6.301613e+07</td>\n",
       "      <td>4.457132e+07</td>\n",
       "      <td>7.965323</td>\n",
       "      <td>5.382398</td>\n",
       "    </tr>\n",
       "    <tr>\n",
       "      <th>Music</th>\n",
       "      <td>59.212500</td>\n",
       "      <td>1.459212e+07</td>\n",
       "      <td>2.822017e+07</td>\n",
       "      <td>5.992811e+07</td>\n",
       "      <td>4.533599e+07</td>\n",
       "      <td>2.525355</td>\n",
       "      <td>6.495000</td>\n",
       "    </tr>\n",
       "  </tbody>\n",
       "</table>\n",
       "</div>"
      ],
      "text/plain": [
       "                    id  production_budget  domestic_gross  worldwide_gross  \\\n",
       "genre                                                                        \n",
       "War          49.170732       2.375610e+07    2.030195e+07     4.369567e+07   \n",
       "News         38.800000       1.932000e+07    1.127706e+07     4.392170e+07   \n",
       "Documentary  48.294355       2.137064e+07    2.793245e+07     5.502641e+07   \n",
       "Drama        51.105230       2.344687e+07    2.884931e+07     6.137088e+07   \n",
       "History      48.770270       3.131095e+07    3.345418e+07     7.006092e+07   \n",
       "Crime        50.381963       2.766338e+07    3.154111e+07     6.792505e+07   \n",
       "Western      47.882353       4.587059e+07    4.555825e+07     8.699831e+07   \n",
       "Romance      53.008850       2.015052e+07    2.883443e+07     6.217852e+07   \n",
       "Horror       53.918367       1.844480e+07    2.802184e+07     6.301613e+07   \n",
       "Music        59.212500       1.459212e+07    2.822017e+07     5.992811e+07   \n",
       "\n",
       "               net_profit       ROI  averagerating  \n",
       "genre                                               \n",
       "War          1.993958e+07  0.438865       6.446341  \n",
       "News         2.460170e+07  1.312152       6.760000  \n",
       "Documentary  3.365577e+07  3.063688       7.145565  \n",
       "Drama        3.792401e+07  2.680697       6.434026  \n",
       "History      3.874998e+07  2.246554       6.828378  \n",
       "Crime        4.026168e+07  1.357063       6.278249  \n",
       "Western      4.112772e+07  0.546899       6.458824  \n",
       "Romance      4.202800e+07  3.522626       6.277286  \n",
       "Horror       4.457132e+07  7.965323       5.382398  \n",
       "Music        4.533599e+07  2.525355       6.495000  "
      ]
     },
     "execution_count": 24,
     "metadata": {},
     "output_type": "execute_result"
    }
   ],
   "source": [
    "genre_profit = total.groupby('genre').mean().sort_values(by = 'net_profit')\n",
    "genre_profit.head(10)"
   ]
  },
  {
   "cell_type": "code",
   "execution_count": 25,
   "metadata": {},
   "outputs": [
    {
     "data": {
      "image/png": "[encoded data removed]",
      "text/plain": [
       "<Figure size 1152x360 with 1 Axes>"
      ]
     },
     "metadata": {
      "needs_background": "light"
     },
     "output_type": "display_data"
    }
   ],
   "source": [
    "#Make a scatter chart to show profit by each genres\n",
    "fig, ax = plt.subplots(figsize = (16,5))\n",
    "ax.barh(genre_profit.index, genre_profit['net_profit'])\n",
    "\n",
    "ax.set_title(\"Movie Genre vs. Net Profit\")\n",
    "ax.set_xlabel(\"Movie Net Profit (in 100M)\")\n",
    "ax.set_ylabel(\"Movie Genre\")\n",
    "plt.savefig('images/genre_profit.png')"
   ]
  },
  {
   "cell_type": "code",
   "execution_count": 26,
   "metadata": {},
   "outputs": [
    {
     "data": {
      "image/png": "[encoded data removed]",
      "text/plain": [
       "<Figure size 1152x360 with 1 Axes>"
      ]
     },
     "metadata": {
      "needs_background": "light"
     },
     "output_type": "display_data"
    }
   ],
   "source": [
    "#Make a scatter chart to show ROI by each genres\n",
    "genre_ROI = total.groupby('genre').mean().sort_values(by = 'ROI')\n",
    "fig, ax = plt.subplots(figsize = (16,5))\n",
    "ax.barh(genre_ROI.index, genre_ROI['ROI'])\n",
    "\n",
    "ax.set_title(\"Movie Genre vs. Return on Investment\")\n",
    "ax.set_xlabel(\"Movie ROI (in 100M)\")\n",
    "ax.set_ylabel(\"Movie Genre\")\n",
    "plt.savefig('images/genre_roi.png')"
   ]
  },
  {
   "cell_type": "markdown",
   "metadata": {},
   "source": [
    "From this bar chart we can know that the most 5 profitable movie genres are Animation, Adventure, Science-Fiction, Fantasy and Action. \n",
    "On the other hand, the top 5 ROI movie genres are Horror, Mystery, Thriller, Sport and Biography."
   ]
  },
  {
   "cell_type": "markdown",
   "metadata": {},
   "source": [
    "### Relationship Between Director Experience and Profit"
   ]
  },
  {
   "cell_type": "markdown",
   "metadata": {},
   "source": [
    "Director might be another key factor whether a movie can be success or not. Therefore I would like to investigate with respect to director's experience, if higher movie counts associates with a higher profit. "
   ]
  },
  {
   "cell_type": "code",
   "execution_count": 27,
   "metadata": {},
   "outputs": [
    {
     "data": {
      "text/plain": [
       "Steven Spielberg     21\n",
       "Ridley Scott         21\n",
       "Steven Soderbergh    20\n",
       "Clint Eastwood       20\n",
       "Tim Burton           18\n",
       "                     ..\n",
       "Marcin Teodoru        1\n",
       "Cara Greene           1\n",
       "Nathan Waters         1\n",
       "Wojciech Klimala      1\n",
       "Tony Chan             1\n",
       "Name: director_name, Length: 2411, dtype: int64"
      ]
     },
     "execution_count": 27,
     "metadata": {},
     "output_type": "execute_result"
    }
   ],
   "source": [
    "director_movie_count = total['director_name'].value_counts()\n",
    "director_movie_count"
   ]
  },
  {
   "cell_type": "markdown",
   "metadata": {},
   "source": [
    "There are 2411 different directors in the dataframe, thus it makes no sense to plot relationship between each director with the profit. However by investigating the relationship between movie counts per director and the average profit the movie gained, we can understand whether director's experience will affect the profit or not. "
   ]
  },
  {
   "cell_type": "code",
   "execution_count": 28,
   "metadata": {},
   "outputs": [
    {
     "data": {
      "text/html": [
       "<div>\n",
       "<style scoped>\n",
       "    .dataframe tbody tr th:only-of-type {\n",
       "        vertical-align: middle;\n",
       "    }\n",
       "\n",
       "    .dataframe tbody tr th {\n",
       "        vertical-align: top;\n",
       "    }\n",
       "\n",
       "    .dataframe thead th {\n",
       "        text-align: right;\n",
       "    }\n",
       "</style>\n",
       "<table border=\"1\" class=\"dataframe\">\n",
       "  <thead>\n",
       "    <tr style=\"text-align: right;\">\n",
       "      <th></th>\n",
       "      <th>director_name</th>\n",
       "      <th>id</th>\n",
       "      <th>production_budget</th>\n",
       "      <th>domestic_gross</th>\n",
       "      <th>worldwide_gross</th>\n",
       "      <th>net_profit</th>\n",
       "      <th>ROI</th>\n",
       "      <th>averagerating</th>\n",
       "      <th>movie_count</th>\n",
       "    </tr>\n",
       "  </thead>\n",
       "  <tbody>\n",
       "    <tr>\n",
       "      <th>187</th>\n",
       "      <td>Atsushi Wada</td>\n",
       "      <td>1.0</td>\n",
       "      <td>425000000.0</td>\n",
       "      <td>760507625.0</td>\n",
       "      <td>2.776345e+09</td>\n",
       "      <td>2.351345e+09</td>\n",
       "      <td>5.532577</td>\n",
       "      <td>6.1</td>\n",
       "      <td>1</td>\n",
       "    </tr>\n",
       "    <tr>\n",
       "      <th>1250</th>\n",
       "      <td>Kevin Lincoln</td>\n",
       "      <td>43.0</td>\n",
       "      <td>200000000.0</td>\n",
       "      <td>659363944.0</td>\n",
       "      <td>2.208208e+09</td>\n",
       "      <td>2.008208e+09</td>\n",
       "      <td>10.041042</td>\n",
       "      <td>6.2</td>\n",
       "      <td>1</td>\n",
       "    </tr>\n",
       "    <tr>\n",
       "      <th>1718</th>\n",
       "      <td>Pete Meads</td>\n",
       "      <td>43.0</td>\n",
       "      <td>200000000.0</td>\n",
       "      <td>659363944.0</td>\n",
       "      <td>2.208208e+09</td>\n",
       "      <td>2.008208e+09</td>\n",
       "      <td>10.041042</td>\n",
       "      <td>6.2</td>\n",
       "      <td>1</td>\n",
       "    </tr>\n",
       "    <tr>\n",
       "      <th>357</th>\n",
       "      <td>Chi-kin Kwok</td>\n",
       "      <td>56.0</td>\n",
       "      <td>150000000.0</td>\n",
       "      <td>400738009.0</td>\n",
       "      <td>1.272470e+09</td>\n",
       "      <td>1.122470e+09</td>\n",
       "      <td>7.483133</td>\n",
       "      <td>5.4</td>\n",
       "      <td>2</td>\n",
       "    </tr>\n",
       "    <tr>\n",
       "      <th>363</th>\n",
       "      <td>Chris Buck</td>\n",
       "      <td>56.0</td>\n",
       "      <td>150000000.0</td>\n",
       "      <td>400738009.0</td>\n",
       "      <td>1.272470e+09</td>\n",
       "      <td>1.122470e+09</td>\n",
       "      <td>7.483133</td>\n",
       "      <td>7.5</td>\n",
       "      <td>3</td>\n",
       "    </tr>\n",
       "    <tr>\n",
       "      <th>...</th>\n",
       "      <td>...</td>\n",
       "      <td>...</td>\n",
       "      <td>...</td>\n",
       "      <td>...</td>\n",
       "      <td>...</td>\n",
       "      <td>...</td>\n",
       "      <td>...</td>\n",
       "      <td>...</td>\n",
       "      <td>...</td>\n",
       "    </tr>\n",
       "    <tr>\n",
       "      <th>197</th>\n",
       "      <td>Bambang Drias</td>\n",
       "      <td>78.0</td>\n",
       "      <td>90000000.0</td>\n",
       "      <td>8224288.0</td>\n",
       "      <td>1.055142e+07</td>\n",
       "      <td>-7.944858e+07</td>\n",
       "      <td>-0.882762</td>\n",
       "      <td>5.8</td>\n",
       "      <td>1</td>\n",
       "    </tr>\n",
       "    <tr>\n",
       "      <th>487</th>\n",
       "      <td>Daniel Beard</td>\n",
       "      <td>78.0</td>\n",
       "      <td>90000000.0</td>\n",
       "      <td>8224288.0</td>\n",
       "      <td>1.055142e+07</td>\n",
       "      <td>-7.944858e+07</td>\n",
       "      <td>-0.882762</td>\n",
       "      <td>8.8</td>\n",
       "      <td>1</td>\n",
       "    </tr>\n",
       "    <tr>\n",
       "      <th>2178</th>\n",
       "      <td>Terry George</td>\n",
       "      <td>78.0</td>\n",
       "      <td>90000000.0</td>\n",
       "      <td>8224288.0</td>\n",
       "      <td>1.055142e+07</td>\n",
       "      <td>-7.944858e+07</td>\n",
       "      <td>-0.882762</td>\n",
       "      <td>6.1</td>\n",
       "      <td>2</td>\n",
       "    </tr>\n",
       "    <tr>\n",
       "      <th>2056</th>\n",
       "      <td>Simon Wells</td>\n",
       "      <td>94.0</td>\n",
       "      <td>150000000.0</td>\n",
       "      <td>21392758.0</td>\n",
       "      <td>3.954976e+07</td>\n",
       "      <td>-1.104502e+08</td>\n",
       "      <td>-0.736335</td>\n",
       "      <td>5.4</td>\n",
       "      <td>3</td>\n",
       "    </tr>\n",
       "    <tr>\n",
       "      <th>2053</th>\n",
       "      <td>Simon Kinberg</td>\n",
       "      <td>3.0</td>\n",
       "      <td>350000000.0</td>\n",
       "      <td>42762350.0</td>\n",
       "      <td>1.497624e+08</td>\n",
       "      <td>-2.002376e+08</td>\n",
       "      <td>-0.572108</td>\n",
       "      <td>6.0</td>\n",
       "      <td>3</td>\n",
       "    </tr>\n",
       "  </tbody>\n",
       "</table>\n",
       "<p>2411 rows × 9 columns</p>\n",
       "</div>"
      ],
      "text/plain": [
       "      director_name    id  production_budget  domestic_gross  worldwide_gross  \\\n",
       "187    Atsushi Wada   1.0        425000000.0     760507625.0     2.776345e+09   \n",
       "1250  Kevin Lincoln  43.0        200000000.0     659363944.0     2.208208e+09   \n",
       "1718     Pete Meads  43.0        200000000.0     659363944.0     2.208208e+09   \n",
       "357    Chi-kin Kwok  56.0        150000000.0     400738009.0     1.272470e+09   \n",
       "363      Chris Buck  56.0        150000000.0     400738009.0     1.272470e+09   \n",
       "...             ...   ...                ...             ...              ...   \n",
       "197   Bambang Drias  78.0         90000000.0       8224288.0     1.055142e+07   \n",
       "487    Daniel Beard  78.0         90000000.0       8224288.0     1.055142e+07   \n",
       "2178   Terry George  78.0         90000000.0       8224288.0     1.055142e+07   \n",
       "2056    Simon Wells  94.0        150000000.0      21392758.0     3.954976e+07   \n",
       "2053  Simon Kinberg   3.0        350000000.0      42762350.0     1.497624e+08   \n",
       "\n",
       "        net_profit        ROI  averagerating  movie_count  \n",
       "187   2.351345e+09   5.532577            6.1            1  \n",
       "1250  2.008208e+09  10.041042            6.2            1  \n",
       "1718  2.008208e+09  10.041042            6.2            1  \n",
       "357   1.122470e+09   7.483133            5.4            2  \n",
       "363   1.122470e+09   7.483133            7.5            3  \n",
       "...            ...        ...            ...          ...  \n",
       "197  -7.944858e+07  -0.882762            5.8            1  \n",
       "487  -7.944858e+07  -0.882762            8.8            1  \n",
       "2178 -7.944858e+07  -0.882762            6.1            2  \n",
       "2056 -1.104502e+08  -0.736335            5.4            3  \n",
       "2053 -2.002376e+08  -0.572108            6.0            3  \n",
       "\n",
       "[2411 rows x 9 columns]"
      ]
     },
     "execution_count": 28,
     "metadata": {},
     "output_type": "execute_result"
    }
   ],
   "source": [
    "#Create dataframe grouped by director's name, and add a column of each person's movie count\n",
    "director_profit = total.groupby('director_name').mean()\n",
    "director_profit = director_profit.reset_index()\n",
    "director_profit ['movie_count'] = director_profit['director_name'].map(director_movie_count)\n",
    "director_profit.sort_values(by = 'net_profit',ascending = False)"
   ]
  },
  {
   "cell_type": "code",
   "execution_count": 29,
   "metadata": {},
   "outputs": [
    {
     "data": {
      "text/plain": [
       "3     801\n",
       "1     688\n",
       "2     505\n",
       "6     155\n",
       "4      58\n",
       "5      54\n",
       "9      52\n",
       "7      18\n",
       "8      17\n",
       "12     15\n",
       "10     12\n",
       "11     12\n",
       "15      8\n",
       "14      7\n",
       "21      2\n",
       "16      2\n",
       "18      2\n",
       "20      2\n",
       "13      1\n",
       "Name: movie_count, dtype: int64"
      ]
     },
     "execution_count": 29,
     "metadata": {},
     "output_type": "execute_result"
    }
   ],
   "source": [
    "director_profit['movie_count'].value_counts()"
   ]
  },
  {
   "cell_type": "code",
   "execution_count": 30,
   "metadata": {},
   "outputs": [
    {
     "data": {
      "image/png": "[encoded data removed]",
      "text/plain": [
       "<Figure size 1152x360 with 1 Axes>"
      ]
     },
     "metadata": {
      "needs_background": "light"
     },
     "output_type": "display_data"
    }
   ],
   "source": [
    "movie_count_profit= director_profit.groupby('movie_count').mean()\n",
    "movie_count_profit= movie_count_profit.reset_index()\n",
    "fig,ax = plt.subplots(figsize=(16, 5))\n",
    "ax.scatter(movie_count_profit['movie_count'], movie_count_profit['net_profit'], color=\"green\")\n",
    "\n",
    "ax.set_title(\"Director Movie Counts vs. Net Profit\")\n",
    "ax.set_xlabel(\"Director Movie Counts\")\n",
    "ax.set_ylabel(\"Movie Net Profit (in 100M)\")\n",
    "\n",
    "movie_count_profit.corr()['net_profit']\n",
    "plt.savefig('images/director_profit.png')"
   ]
  },
  {
   "cell_type": "markdown",
   "metadata": {},
   "source": [
    "The result shows the directors who had made more than 5 movies gained higher average profit on the movie they made. "
   ]
  },
  {
   "cell_type": "markdown",
   "metadata": {},
   "source": [
    "## Conclusions\n",
    "\n",
    "This analysis leads to three recommendations for Microsoft, in order to make achievement in the movie production: \n",
    "*  **Invest higher budget will likely to gain higher profit, while low budget turns to get high ROI** It seems production budget and movie profit has a postive correlation, which means higher budget may bring in higher profit. However, based on the budget-ROI result, it might also be a good idea if Microsoft wants to use a small amount of budget to test the market.\n",
    "*  **Consider making movie in genres that are more profitable**  The five most profitable movie genres are Animation, Adventure, Science-Fiction, Fantasy and Action. And on the other hand, the top 5 ROI movie genres are Horror, Mystery, Thriller, Sport and Biography.\n",
    "*  **Consider using more experienced directors** Directors with more than 5 movies tend to earn higher average profit, than directors with less than 5 movies' experience. \n"
   ]
  },
  {
   "cell_type": "markdown",
   "metadata": {},
   "source": [
    "### Next Step\n",
    "Further analysis could yield additional recommendation:\n",
    "* Investigate what budget range for each profitable genre that could bring better profit.\n",
    "* Investigate the most profitable director for each profitable genre."
   ]
  }
 ],
 "metadata": {
  "kernelspec": {
   "display_name": "Python 3",
   "language": "python",
   "name": "python3"
  },
  "language_info": {
   "codemirror_mode": {
    "name": "ipython",
    "version": 3
   },
   "file_extension": ".py",
   "mimetype": "text/x-python",
   "name": "python",
   "nbconvert_exporter": "python",
   "pygments_lexer": "ipython3",
   "version": "3.8.5"
  }
 },
 "nbformat": 4,
 "nbformat_minor": 4
}
